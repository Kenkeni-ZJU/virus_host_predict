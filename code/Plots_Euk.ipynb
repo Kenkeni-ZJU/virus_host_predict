{
 "cells": [
  {
   "cell_type": "markdown",
   "metadata": {},
   "source": [
    "## Plots of the results for the Eukaryote datasets"
   ]
  },
  {
   "cell_type": "code",
   "execution_count": null,
   "metadata": {},
   "outputs": [],
   "source": [
    "import matplotlib.pyplot as plt\n",
    "import numpy as np\n",
    "import pandas as pd\n",
    "import seaborn as sns\n",
    "import statistics as s"
   ]
  },
  {
   "cell_type": "markdown",
   "metadata": {},
   "source": [
    "#### Concatenate all Eukaryote results files.\n",
    "Euk_balt_results.csv  \n",
    "Euk_all_results.csv    Euk_RNA_results.csv"
   ]
  },
  {
   "cell_type": "code",
   "execution_count": null,
   "metadata": {},
   "outputs": [],
   "source": [
    "results_files = ['Euk_balt_results.csv','Euk_all_results.csv',    'Euk_RNA_results.csv']\n",
    "dfs = [] \n",
    "for filename in results_files:\n",
    "    df1 = pd.read_csv(f'../results/{filename}') \n",
    "    dfs.append(df1)\n",
    "df = pd.concat(dfs)"
   ]
  },
  {
   "cell_type": "code",
   "execution_count": null,
   "metadata": {},
   "outputs": [],
   "source": [
    "df.rename(columns = {'label tax group':'tax', 'positive label':'label' }, inplace=True)\n",
    "df.drop(columns= [ 'pool label', 'pool tax group'], inplace =True)\n",
    "\n",
    "con = lambda row :f'{row[\"label\"]}_{row[\"Baltimore\"]}' \n",
    "df['Dataset'] = df.apply ( con, axis =1)\n",
    "fs = lambda row: f'{row[\"Features\"]}_{row[\"k\"]}'\n",
    "df['Feature set'] = df.apply(fs,axis = 1)\n",
    "\n",
    "tax_order =['kingdom','phylum','class','order','family','genus','species']\n",
    "df['tax'] = df['tax'].astype('category')\n",
    "df['tax'].cat.set_categories(tax_order, inplace=True)\n",
    "fs_order =['DNA_1','DNA_2','DNA_3','DNA_4','DNA_5','DNA_6','DNA_7','DNA_8','DNA_9','AA_1','AA_2','AA_3','AA_4','PC_1','PC_2','PC_3','PC_4','PC_5','PC_6','Domains_0']\n",
    "df['Feature set'] = df['Feature set'].astype('category')\n",
    "df['Feature set'].cat.set_categories(fs_order, inplace=True)\n",
    "balt_order = ['all','RNA' ,'(+)ssRNA', '(-)ssRNA',  'dsRNA', 'dsDNA','ssDNA']\n",
    "df['Baltimore'] = df['Baltimore'].astype('category')\n",
    "df['Baltimore'].cat.set_categories(balt_order, inplace=True)\n",
    "           "
   ]
  },
  {
   "cell_type": "code",
   "execution_count": null,
   "metadata": {},
   "outputs": [],
   "source": [
    "df.head()"
   ]
  },
  {
   "cell_type": "code",
   "execution_count": null,
   "metadata": {},
   "outputs": [],
   "source": [
    "tax_ss = ['phylum','class','order']\n",
    "subset = df[(df['tax'].isin(tax_ss))]\n",
    "\n",
    "\n",
    "sns.set(font_scale=2.5 )\n",
    "g = sns.catplot(data=subset , col= \"tax\",col_wrap=1, height=8,aspect =2, \n",
    "                  margin_titles=True, col_order=tax_ss, legend_out = True,\n",
    "                    x = 'Baltimore',y = 'AUC', hue = 'Feature set',\n",
    "                    kind = 'box',\n",
    "                    hue_order = fs_order,\n",
    "                    palette='viridis',\n",
    "                    order= balt_order,\n",
    "                    dodge = True,\n",
    "                    sharex = False,\n",
    "                     width =.95 ,linewidth =1.5)\n",
    "                  \n",
    "g.set_titles('{col_name}' ,fontsize= 80)\n",
    "g.set(ylim = (0.5,1.02) ) \n",
    "plt.subplots_adjust(hspace = 0.2)"
   ]
  },
  {
   "cell_type": "markdown",
   "metadata": {},
   "source": [
    "## Heat Map"
   ]
  },
  {
   "cell_type": "code",
   "execution_count": null,
   "metadata": {},
   "outputs": [],
   "source": [
    "concat_ds = lambda row: f'{row[\"tax\"][0]}_{row[\"Dataset\"]} '\n",
    "df['ds']= df.apply(concat_ds , axis=1)\n",
    "\n",
    "df1 = df.sort_values(['tax','label'])\n",
    "unique = []\n",
    "# [unique.append(ds) for ds in list(df1['Dataset']) if ds not in unique ]\n",
    "for d in (list(df1['ds'])):\n",
    "    if d not in unique:\n",
    "        unique.append(d)\n",
    "\n",
    "dfp = df1.pivot_table(index='ds',columns='Feature set', values ='AUC').reindex(unique)\n"
   ]
  },
  {
   "cell_type": "code",
   "execution_count": null,
   "metadata": {},
   "outputs": [],
   "source": [
    "dfp.head()"
   ]
  },
  {
   "cell_type": "code",
   "execution_count": null,
   "metadata": {},
   "outputs": [],
   "source": [
    "sns.set(font_scale=1.5)\n",
    "f, ax = plt.subplots(figsize=(20, 80))\n",
    "sns.heatmap(dfp,cmap = 'viridis', vmin = 0.5,   ax=ax)"
   ]
  },
  {
   "cell_type": "code",
   "execution_count": null,
   "metadata": {},
   "outputs": [],
   "source": [
    "results_files = ['Euk_balt_results.csv','Euk_all_results.csv',    'Euk_RNA_results.csv']\n",
    "dfs = [] \n",
    "for filename in results_files:\n",
    "    df1 = pd.read_csv(f'../results/{filename}') \n",
    "    dfs.append(df1)\n",
    "df = pd.concat(dfs)"
   ]
  },
  {
   "cell_type": "code",
   "execution_count": null,
   "metadata": {},
   "outputs": [],
   "source": [
    "df.rename(columns = {'label tax group':'tax', 'positive label':'label','pool label': 'negative label' ,'pool tax group':'negative tax'}, inplace=True)\n",
    "\n",
    "con = lambda row :f'{row[\"label\"]}_{row[\"Baltimore\"]}' \n",
    "df['Dataset'] = df.apply ( con, axis =1)\n",
    "fs = lambda row: f'{row[\"Features\"]}_{row[\"k\"]}'\n",
    "df['Feature set'] = df.apply(fs,axis = 1)\n",
    "\n",
    "tax_order =['kingdom','phylum','class','order','family','genus','species']\n",
    "df['tax'] = df['tax'].astype('category')\n",
    "df['tax'].cat.set_categories(tax_order, inplace=True)\n",
    "fs_order =['DNA_1','DNA_2','DNA_3','DNA_4','DNA_5','DNA_6','DNA_7','DNA_8','DNA_9','AA_1','AA_2','AA_3','AA_4','PC_1','PC_2','PC_3','PC_4','PC_5','PC_6','Domains_0']\n",
    "df['Feature set'] = df['Feature set'].astype('category')\n",
    "df['Feature set'].cat.set_categories(fs_order, inplace=True)\n",
    "balt_order = ['all','RNA' ,'(+)ssRNA', '(-)ssRNA',  'dsRNA', 'dsDNA','ssDNA']\n",
    "df['Baltimore'] = df['Baltimore'].astype('category')\n",
    "df['Baltimore'].cat.set_categories(balt_order, inplace=True)\n",
    "df.drop (columns= ['label','Features','k'], inplace = True)           "
   ]
  },
  {
   "cell_type": "code",
   "execution_count": null,
   "metadata": {},
   "outputs": [],
   "source": [
    "df1 = df.set_index(['Dataset','tax', 'negative label', 'negative tax', 'Baltimore', 'N in class'])"
   ]
  },
  {
   "cell_type": "code",
   "execution_count": null,
   "metadata": {},
   "outputs": [],
   "source": [
    "#df1.reset_index(drop = False,inplace=True)\n",
    "df1.index.unique()"
   ]
  },
  {
   "cell_type": "code",
   "execution_count": null,
   "metadata": {},
   "outputs": [],
   "source": [
    "dfout =df.pivot_table(index = ['Dataset','tax', 'negative label', 'negative tax', 'Baltimore', 'N in class'],values = 'AUC', columns = 'Feature set', aggfunc = 'mean').reset_index()"
   ]
  },
  {
   "cell_type": "code",
   "execution_count": null,
   "metadata": {},
   "outputs": [],
   "source": [
    "dfout.tail()\n"
   ]
  },
  {
   "cell_type": "code",
   "execution_count": null,
   "metadata": {},
   "outputs": [],
   "source": []
  }
 ],
 "metadata": {
  "kernelspec": {
   "display_name": "Python 3",
   "language": "python",
   "name": "python3"
  },
  "language_info": {
   "codemirror_mode": {
    "name": "ipython",
    "version": 3
   },
   "file_extension": ".py",
   "mimetype": "text/x-python",
   "name": "python",
   "nbconvert_exporter": "python",
   "pygments_lexer": "ipython3",
   "version": "3.6.3"
  }
 },
 "nbformat": 4,
 "nbformat_minor": 2
}
