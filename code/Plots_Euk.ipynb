{
 "cells": [
  {
   "cell_type": "markdown",
   "metadata": {},
   "source": [
    "## Plots of the results for the Eukaryote datasets"
   ]
  },
  {
   "cell_type": "code",
   "execution_count": 6,
   "metadata": {},
   "outputs": [],
   "source": [
    "import matplotlib.pyplot as plt\n",
    "import numpy as np\n",
    "import pandas as pd\n",
    "import seaborn as sns\n",
    "import statistics as s"
   ]
  },
  {
   "cell_type": "markdown",
   "metadata": {},
   "source": [
    "#### Concatenate all Eukaryote results files.\n",
    "Euk_balt_results.csv  \n",
    "Euk_all_results.csv    Euk_RNA_results.csv"
   ]
  },
  {
   "cell_type": "code",
   "execution_count": 12,
   "metadata": {},
   "outputs": [],
   "source": [
    "results_files = ['Euk_Balt_results.csv','Euk_all_results.csv',    'Euk_RNA_results.csv']\n",
    "dfs = [] \n",
    "for filename in results_files:\n",
    "    df1 = pd.read_csv(f'../results/{filename}') \n",
    "    dfs.append(df1)\n",
    "df = pd.concat(dfs)"
   ]
  },
  {
   "cell_type": "code",
   "execution_count": 14,
   "metadata": {},
   "outputs": [
    {
     "data": {
      "text/html": [
       "<div>\n",
       "<style scoped>\n",
       "    .dataframe tbody tr th:only-of-type {\n",
       "        vertical-align: middle;\n",
       "    }\n",
       "\n",
       "    .dataframe tbody tr th {\n",
       "        vertical-align: top;\n",
       "    }\n",
       "\n",
       "    .dataframe thead th {\n",
       "        text-align: right;\n",
       "    }\n",
       "</style>\n",
       "<table border=\"1\" class=\"dataframe\">\n",
       "  <thead>\n",
       "    <tr style=\"text-align: right;\">\n",
       "      <th></th>\n",
       "      <th>label</th>\n",
       "      <th>label_tax</th>\n",
       "      <th>pool_label</th>\n",
       "      <th>pool_tax</th>\n",
       "      <th>Baltimore</th>\n",
       "      <th>N</th>\n",
       "      <th>Features</th>\n",
       "      <th>k</th>\n",
       "      <th>AUC</th>\n",
       "      <th>Acc</th>\n",
       "      <th>Spec</th>\n",
       "      <th>Sens</th>\n",
       "      <th>FDR</th>\n",
       "      <th>TP</th>\n",
       "      <th>TN</th>\n",
       "      <th>FP</th>\n",
       "      <th>FN</th>\n",
       "    </tr>\n",
       "  </thead>\n",
       "  <tbody>\n",
       "    <tr>\n",
       "      <th>0</th>\n",
       "      <td>Metazoa</td>\n",
       "      <td>kingdom</td>\n",
       "      <td>Eukaryota</td>\n",
       "      <td>superkingdom</td>\n",
       "      <td>dsDNA</td>\n",
       "      <td>120</td>\n",
       "      <td>DNA</td>\n",
       "      <td>1</td>\n",
       "      <td>0.487</td>\n",
       "      <td>0.43</td>\n",
       "      <td>0.81</td>\n",
       "      <td>0.00</td>\n",
       "      <td>1.00</td>\n",
       "      <td>0</td>\n",
       "      <td>13</td>\n",
       "      <td>3</td>\n",
       "      <td>14</td>\n",
       "    </tr>\n",
       "    <tr>\n",
       "      <th>1</th>\n",
       "      <td>Metazoa</td>\n",
       "      <td>kingdom</td>\n",
       "      <td>Eukaryota</td>\n",
       "      <td>superkingdom</td>\n",
       "      <td>dsDNA</td>\n",
       "      <td>120</td>\n",
       "      <td>DNA</td>\n",
       "      <td>2</td>\n",
       "      <td>0.946</td>\n",
       "      <td>0.87</td>\n",
       "      <td>0.88</td>\n",
       "      <td>0.86</td>\n",
       "      <td>0.14</td>\n",
       "      <td>12</td>\n",
       "      <td>14</td>\n",
       "      <td>2</td>\n",
       "      <td>2</td>\n",
       "    </tr>\n",
       "    <tr>\n",
       "      <th>2</th>\n",
       "      <td>Metazoa</td>\n",
       "      <td>kingdom</td>\n",
       "      <td>Eukaryota</td>\n",
       "      <td>superkingdom</td>\n",
       "      <td>dsDNA</td>\n",
       "      <td>120</td>\n",
       "      <td>DNA</td>\n",
       "      <td>3</td>\n",
       "      <td>0.982</td>\n",
       "      <td>0.90</td>\n",
       "      <td>0.88</td>\n",
       "      <td>0.93</td>\n",
       "      <td>0.13</td>\n",
       "      <td>13</td>\n",
       "      <td>14</td>\n",
       "      <td>2</td>\n",
       "      <td>1</td>\n",
       "    </tr>\n",
       "    <tr>\n",
       "      <th>3</th>\n",
       "      <td>Metazoa</td>\n",
       "      <td>kingdom</td>\n",
       "      <td>Eukaryota</td>\n",
       "      <td>superkingdom</td>\n",
       "      <td>dsDNA</td>\n",
       "      <td>120</td>\n",
       "      <td>DNA</td>\n",
       "      <td>4</td>\n",
       "      <td>0.969</td>\n",
       "      <td>0.90</td>\n",
       "      <td>0.88</td>\n",
       "      <td>0.93</td>\n",
       "      <td>0.13</td>\n",
       "      <td>13</td>\n",
       "      <td>14</td>\n",
       "      <td>2</td>\n",
       "      <td>1</td>\n",
       "    </tr>\n",
       "    <tr>\n",
       "      <th>4</th>\n",
       "      <td>Metazoa</td>\n",
       "      <td>kingdom</td>\n",
       "      <td>Eukaryota</td>\n",
       "      <td>superkingdom</td>\n",
       "      <td>dsDNA</td>\n",
       "      <td>120</td>\n",
       "      <td>DNA</td>\n",
       "      <td>5</td>\n",
       "      <td>0.964</td>\n",
       "      <td>0.90</td>\n",
       "      <td>0.88</td>\n",
       "      <td>0.93</td>\n",
       "      <td>0.13</td>\n",
       "      <td>13</td>\n",
       "      <td>14</td>\n",
       "      <td>2</td>\n",
       "      <td>1</td>\n",
       "    </tr>\n",
       "  </tbody>\n",
       "</table>\n",
       "</div>"
      ],
      "text/plain": [
       "     label label_tax pool_label      pool_tax Baltimore    N Features  k  \\\n",
       "0  Metazoa   kingdom  Eukaryota  superkingdom     dsDNA  120      DNA  1   \n",
       "1  Metazoa   kingdom  Eukaryota  superkingdom     dsDNA  120      DNA  2   \n",
       "2  Metazoa   kingdom  Eukaryota  superkingdom     dsDNA  120      DNA  3   \n",
       "3  Metazoa   kingdom  Eukaryota  superkingdom     dsDNA  120      DNA  4   \n",
       "4  Metazoa   kingdom  Eukaryota  superkingdom     dsDNA  120      DNA  5   \n",
       "\n",
       "     AUC   Acc  Spec  Sens   FDR  TP  TN  FP  FN  \n",
       "0  0.487  0.43  0.81  0.00  1.00   0  13   3  14  \n",
       "1  0.946  0.87  0.88  0.86  0.14  12  14   2   2  \n",
       "2  0.982  0.90  0.88  0.93  0.13  13  14   2   1  \n",
       "3  0.969  0.90  0.88  0.93  0.13  13  14   2   1  \n",
       "4  0.964  0.90  0.88  0.93  0.13  13  14   2   1  "
      ]
     },
     "execution_count": 14,
     "metadata": {},
     "output_type": "execute_result"
    }
   ],
   "source": [
    "df.head()"
   ]
  },
  {
   "cell_type": "code",
   "execution_count": 13,
   "metadata": {},
   "outputs": [
    {
     "ename": "KeyError",
     "evalue": "\"['pool label' 'pool tax group'] not found in axis\"",
     "output_type": "error",
     "traceback": [
      "\u001b[0;31m---------------------------------------------------------------------------\u001b[0m",
      "\u001b[0;31mKeyError\u001b[0m                                  Traceback (most recent call last)",
      "\u001b[0;32m<ipython-input-13-e1e82923c8c7>\u001b[0m in \u001b[0;36m<module>\u001b[0;34m()\u001b[0m\n\u001b[1;32m      1\u001b[0m \u001b[0mdf\u001b[0m\u001b[0;34m.\u001b[0m\u001b[0mrename\u001b[0m\u001b[0;34m(\u001b[0m\u001b[0mcolumns\u001b[0m \u001b[0;34m=\u001b[0m \u001b[0;34m{\u001b[0m\u001b[0;34m'label tax group'\u001b[0m\u001b[0;34m:\u001b[0m\u001b[0;34m'tax'\u001b[0m\u001b[0;34m,\u001b[0m \u001b[0;34m'positive label'\u001b[0m\u001b[0;34m:\u001b[0m\u001b[0;34m'label'\u001b[0m \u001b[0;34m}\u001b[0m\u001b[0;34m,\u001b[0m \u001b[0minplace\u001b[0m\u001b[0;34m=\u001b[0m\u001b[0;32mTrue\u001b[0m\u001b[0;34m)\u001b[0m\u001b[0;34m\u001b[0m\u001b[0m\n\u001b[0;32m----> 2\u001b[0;31m \u001b[0mdf\u001b[0m\u001b[0;34m.\u001b[0m\u001b[0mdrop\u001b[0m\u001b[0;34m(\u001b[0m\u001b[0mcolumns\u001b[0m\u001b[0;34m=\u001b[0m \u001b[0;34m[\u001b[0m \u001b[0;34m'pool label'\u001b[0m\u001b[0;34m,\u001b[0m \u001b[0;34m'pool tax group'\u001b[0m\u001b[0;34m]\u001b[0m\u001b[0;34m,\u001b[0m \u001b[0minplace\u001b[0m \u001b[0;34m=\u001b[0m\u001b[0;32mTrue\u001b[0m\u001b[0;34m)\u001b[0m\u001b[0;34m\u001b[0m\u001b[0m\n\u001b[0m\u001b[1;32m      3\u001b[0m \u001b[0;34m\u001b[0m\u001b[0m\n\u001b[1;32m      4\u001b[0m \u001b[0mcon\u001b[0m \u001b[0;34m=\u001b[0m \u001b[0;32mlambda\u001b[0m \u001b[0mrow\u001b[0m \u001b[0;34m:\u001b[0m\u001b[0;34mf'{row[\"label\"]}_{row[\"Baltimore\"]}'\u001b[0m\u001b[0;34m\u001b[0m\u001b[0m\n\u001b[1;32m      5\u001b[0m \u001b[0mdf\u001b[0m\u001b[0;34m[\u001b[0m\u001b[0;34m'Dataset'\u001b[0m\u001b[0;34m]\u001b[0m \u001b[0;34m=\u001b[0m \u001b[0mdf\u001b[0m\u001b[0;34m.\u001b[0m\u001b[0mapply\u001b[0m \u001b[0;34m(\u001b[0m \u001b[0mcon\u001b[0m\u001b[0;34m,\u001b[0m \u001b[0maxis\u001b[0m \u001b[0;34m=\u001b[0m\u001b[0;36m1\u001b[0m\u001b[0;34m)\u001b[0m\u001b[0;34m\u001b[0m\u001b[0m\n",
      "\u001b[0;32m~/Desktop/workspace/myenv/lib/python3.6/site-packages/pandas/core/frame.py\u001b[0m in \u001b[0;36mdrop\u001b[0;34m(self, labels, axis, index, columns, level, inplace, errors)\u001b[0m\n\u001b[1;32m   4095\u001b[0m             \u001b[0mlevel\u001b[0m\u001b[0;34m=\u001b[0m\u001b[0mlevel\u001b[0m\u001b[0;34m,\u001b[0m\u001b[0;34m\u001b[0m\u001b[0m\n\u001b[1;32m   4096\u001b[0m             \u001b[0minplace\u001b[0m\u001b[0;34m=\u001b[0m\u001b[0minplace\u001b[0m\u001b[0;34m,\u001b[0m\u001b[0;34m\u001b[0m\u001b[0m\n\u001b[0;32m-> 4097\u001b[0;31m             \u001b[0merrors\u001b[0m\u001b[0;34m=\u001b[0m\u001b[0merrors\u001b[0m\u001b[0;34m,\u001b[0m\u001b[0;34m\u001b[0m\u001b[0m\n\u001b[0m\u001b[1;32m   4098\u001b[0m         )\n\u001b[1;32m   4099\u001b[0m \u001b[0;34m\u001b[0m\u001b[0m\n",
      "\u001b[0;32m~/Desktop/workspace/myenv/lib/python3.6/site-packages/pandas/core/generic.py\u001b[0m in \u001b[0;36mdrop\u001b[0;34m(self, labels, axis, index, columns, level, inplace, errors)\u001b[0m\n\u001b[1;32m   3913\u001b[0m         \u001b[0;32mfor\u001b[0m \u001b[0maxis\u001b[0m\u001b[0;34m,\u001b[0m \u001b[0mlabels\u001b[0m \u001b[0;32min\u001b[0m \u001b[0maxes\u001b[0m\u001b[0;34m.\u001b[0m\u001b[0mitems\u001b[0m\u001b[0;34m(\u001b[0m\u001b[0;34m)\u001b[0m\u001b[0;34m:\u001b[0m\u001b[0;34m\u001b[0m\u001b[0m\n\u001b[1;32m   3914\u001b[0m             \u001b[0;32mif\u001b[0m \u001b[0mlabels\u001b[0m \u001b[0;32mis\u001b[0m \u001b[0;32mnot\u001b[0m \u001b[0;32mNone\u001b[0m\u001b[0;34m:\u001b[0m\u001b[0;34m\u001b[0m\u001b[0m\n\u001b[0;32m-> 3915\u001b[0;31m                 \u001b[0mobj\u001b[0m \u001b[0;34m=\u001b[0m \u001b[0mobj\u001b[0m\u001b[0;34m.\u001b[0m\u001b[0m_drop_axis\u001b[0m\u001b[0;34m(\u001b[0m\u001b[0mlabels\u001b[0m\u001b[0;34m,\u001b[0m \u001b[0maxis\u001b[0m\u001b[0;34m,\u001b[0m \u001b[0mlevel\u001b[0m\u001b[0;34m=\u001b[0m\u001b[0mlevel\u001b[0m\u001b[0;34m,\u001b[0m \u001b[0merrors\u001b[0m\u001b[0;34m=\u001b[0m\u001b[0merrors\u001b[0m\u001b[0;34m)\u001b[0m\u001b[0;34m\u001b[0m\u001b[0m\n\u001b[0m\u001b[1;32m   3916\u001b[0m \u001b[0;34m\u001b[0m\u001b[0m\n\u001b[1;32m   3917\u001b[0m         \u001b[0;32mif\u001b[0m \u001b[0minplace\u001b[0m\u001b[0;34m:\u001b[0m\u001b[0;34m\u001b[0m\u001b[0m\n",
      "\u001b[0;32m~/Desktop/workspace/myenv/lib/python3.6/site-packages/pandas/core/generic.py\u001b[0m in \u001b[0;36m_drop_axis\u001b[0;34m(self, labels, axis, level, errors)\u001b[0m\n\u001b[1;32m   3945\u001b[0m                 \u001b[0mnew_axis\u001b[0m \u001b[0;34m=\u001b[0m \u001b[0maxis\u001b[0m\u001b[0;34m.\u001b[0m\u001b[0mdrop\u001b[0m\u001b[0;34m(\u001b[0m\u001b[0mlabels\u001b[0m\u001b[0;34m,\u001b[0m \u001b[0mlevel\u001b[0m\u001b[0;34m=\u001b[0m\u001b[0mlevel\u001b[0m\u001b[0;34m,\u001b[0m \u001b[0merrors\u001b[0m\u001b[0;34m=\u001b[0m\u001b[0merrors\u001b[0m\u001b[0;34m)\u001b[0m\u001b[0;34m\u001b[0m\u001b[0m\n\u001b[1;32m   3946\u001b[0m             \u001b[0;32melse\u001b[0m\u001b[0;34m:\u001b[0m\u001b[0;34m\u001b[0m\u001b[0m\n\u001b[0;32m-> 3947\u001b[0;31m                 \u001b[0mnew_axis\u001b[0m \u001b[0;34m=\u001b[0m \u001b[0maxis\u001b[0m\u001b[0;34m.\u001b[0m\u001b[0mdrop\u001b[0m\u001b[0;34m(\u001b[0m\u001b[0mlabels\u001b[0m\u001b[0;34m,\u001b[0m \u001b[0merrors\u001b[0m\u001b[0;34m=\u001b[0m\u001b[0merrors\u001b[0m\u001b[0;34m)\u001b[0m\u001b[0;34m\u001b[0m\u001b[0m\n\u001b[0m\u001b[1;32m   3948\u001b[0m             \u001b[0mresult\u001b[0m \u001b[0;34m=\u001b[0m \u001b[0mself\u001b[0m\u001b[0;34m.\u001b[0m\u001b[0mreindex\u001b[0m\u001b[0;34m(\u001b[0m\u001b[0;34m**\u001b[0m\u001b[0;34m{\u001b[0m\u001b[0maxis_name\u001b[0m\u001b[0;34m:\u001b[0m \u001b[0mnew_axis\u001b[0m\u001b[0;34m}\u001b[0m\u001b[0;34m)\u001b[0m\u001b[0;34m\u001b[0m\u001b[0m\n\u001b[1;32m   3949\u001b[0m \u001b[0;34m\u001b[0m\u001b[0m\n",
      "\u001b[0;32m~/Desktop/workspace/myenv/lib/python3.6/site-packages/pandas/core/indexes/base.py\u001b[0m in \u001b[0;36mdrop\u001b[0;34m(self, labels, errors)\u001b[0m\n\u001b[1;32m   5331\u001b[0m         \u001b[0;32mif\u001b[0m \u001b[0mmask\u001b[0m\u001b[0;34m.\u001b[0m\u001b[0many\u001b[0m\u001b[0;34m(\u001b[0m\u001b[0;34m)\u001b[0m\u001b[0;34m:\u001b[0m\u001b[0;34m\u001b[0m\u001b[0m\n\u001b[1;32m   5332\u001b[0m             \u001b[0;32mif\u001b[0m \u001b[0merrors\u001b[0m \u001b[0;34m!=\u001b[0m \u001b[0;34m\"ignore\"\u001b[0m\u001b[0;34m:\u001b[0m\u001b[0;34m\u001b[0m\u001b[0m\n\u001b[0;32m-> 5333\u001b[0;31m                 \u001b[0;32mraise\u001b[0m \u001b[0mKeyError\u001b[0m\u001b[0;34m(\u001b[0m\u001b[0;34m\"{} not found in axis\"\u001b[0m\u001b[0;34m.\u001b[0m\u001b[0mformat\u001b[0m\u001b[0;34m(\u001b[0m\u001b[0mlabels\u001b[0m\u001b[0;34m[\u001b[0m\u001b[0mmask\u001b[0m\u001b[0;34m]\u001b[0m\u001b[0;34m)\u001b[0m\u001b[0;34m)\u001b[0m\u001b[0;34m\u001b[0m\u001b[0m\n\u001b[0m\u001b[1;32m   5334\u001b[0m             \u001b[0mindexer\u001b[0m \u001b[0;34m=\u001b[0m \u001b[0mindexer\u001b[0m\u001b[0;34m[\u001b[0m\u001b[0;34m~\u001b[0m\u001b[0mmask\u001b[0m\u001b[0;34m]\u001b[0m\u001b[0;34m\u001b[0m\u001b[0m\n\u001b[1;32m   5335\u001b[0m         \u001b[0;32mreturn\u001b[0m \u001b[0mself\u001b[0m\u001b[0;34m.\u001b[0m\u001b[0mdelete\u001b[0m\u001b[0;34m(\u001b[0m\u001b[0mindexer\u001b[0m\u001b[0;34m)\u001b[0m\u001b[0;34m\u001b[0m\u001b[0m\n",
      "\u001b[0;31mKeyError\u001b[0m: \"['pool label' 'pool tax group'] not found in axis\""
     ]
    }
   ],
   "source": [
    "df.rename(columns = {'label_tax':'tax' }, inplace=True)\n",
    "df.drop(columns= [ 'pool_label', 'pool tax group'], inplace =True)\n",
    "\n",
    "con = lambda row :f'{row[\"label\"]}_{row[\"Baltimore\"]}' \n",
    "df['Dataset'] = df.apply ( con, axis =1)\n",
    "fs = lambda row: f'{row[\"Features\"]}_{row[\"k\"]}'\n",
    "df['Feature set'] = df.apply(fs,axis = 1)\n",
    "\n",
    "tax_order =['kingdom','phylum','class','order','family','genus','species']\n",
    "df['tax'] = df['tax'].astype('category')\n",
    "df['tax'].cat.set_categories(tax_order, inplace=True)\n",
    "fs_order =['DNA_1','DNA_2','DNA_3','DNA_4','DNA_5','DNA_6','DNA_7','DNA_8','DNA_9','AA_1','AA_2','AA_3','AA_4','PC_1','PC_2','PC_3','PC_4','PC_5','PC_6','Domains_0']\n",
    "df['Feature set'] = df['Feature set'].astype('category')\n",
    "df['Feature set'].cat.set_categories(fs_order, inplace=True)\n",
    "balt_order = ['all','RNA' ,'(+)ssRNA', '(-)ssRNA',  'dsRNA', 'dsDNA','ssDNA']\n",
    "df['Baltimore'] = df['Baltimore'].astype('category')\n",
    "df['Baltimore'].cat.set_categories(balt_order, inplace=True)\n",
    "           "
   ]
  },
  {
   "cell_type": "code",
   "execution_count": null,
   "metadata": {},
   "outputs": [],
   "source": [
    "df.head()"
   ]
  },
  {
   "cell_type": "code",
   "execution_count": null,
   "metadata": {},
   "outputs": [],
   "source": [
    "tax_ss = ['phylum','class','order']\n",
    "subset = df[(df['tax'].isin(tax_ss))]\n",
    "\n",
    "\n",
    "sns.set(font_scale=2.5 )\n",
    "g = sns.catplot(data=subset , col= \"tax\",col_wrap=1, height=8,aspect =2, \n",
    "                  margin_titles=True, col_order=tax_ss, legend_out = True,\n",
    "                    x = 'Baltimore',y = 'AUC', hue = 'Feature set',\n",
    "                    kind = 'box',\n",
    "                    hue_order = fs_order,\n",
    "                    palette='viridis',\n",
    "                    order= balt_order,\n",
    "                    dodge = True,\n",
    "                    sharex = False,\n",
    "                     width =.95 ,linewidth =1.5)\n",
    "                  \n",
    "g.set_titles('{col_name}' ,fontsize= 80)\n",
    "g.set(ylim = (0.5,1.02) ) \n",
    "plt.subplots_adjust(hspace = 0.2)"
   ]
  },
  {
   "cell_type": "markdown",
   "metadata": {},
   "source": [
    "## Heat Map"
   ]
  },
  {
   "cell_type": "code",
   "execution_count": null,
   "metadata": {},
   "outputs": [],
   "source": [
    "concat_ds = lambda row: f'{row[\"tax\"][0]}_{row[\"Dataset\"]} '\n",
    "df['ds']= df.apply(concat_ds , axis=1)\n",
    "\n",
    "df1 = df.sort_values(['tax','label'])\n",
    "unique = []\n",
    "# [unique.append(ds) for ds in list(df1['Dataset']) if ds not in unique ]\n",
    "for d in (list(df1['ds'])):\n",
    "    if d not in unique:\n",
    "        unique.append(d)\n",
    "\n",
    "dfp = df1.pivot_table(index='ds',columns='Feature set', values ='AUC').reindex(unique)\n"
   ]
  },
  {
   "cell_type": "code",
   "execution_count": null,
   "metadata": {},
   "outputs": [],
   "source": [
    "dfp.head()"
   ]
  },
  {
   "cell_type": "code",
   "execution_count": null,
   "metadata": {},
   "outputs": [],
   "source": [
    "sns.set(font_scale=1.5)\n",
    "f, ax = plt.subplots(figsize=(20, 80))\n",
    "sns.heatmap(dfp,cmap = 'viridis', vmin = 0.5,   ax=ax)"
   ]
  },
  {
   "cell_type": "code",
   "execution_count": null,
   "metadata": {},
   "outputs": [],
   "source": [
    "results_files = ['Euk_balt_results.csv','Euk_all_results.csv',    'Euk_RNA_results.csv']\n",
    "dfs = [] \n",
    "for filename in results_files:\n",
    "    df1 = pd.read_csv(f'../results/{filename}') \n",
    "    dfs.append(df1)\n",
    "df = pd.concat(dfs)"
   ]
  },
  {
   "cell_type": "code",
   "execution_count": null,
   "metadata": {},
   "outputs": [],
   "source": [
    "df.rename(columns = {'label tax group':'tax', 'positive label':'label','pool label': 'negative label' ,'pool tax group':'negative tax'}, inplace=True)\n",
    "\n",
    "con = lambda row :f'{row[\"label\"]}_{row[\"Baltimore\"]}' \n",
    "df['Dataset'] = df.apply ( con, axis =1)\n",
    "fs = lambda row: f'{row[\"Features\"]}_{row[\"k\"]}'\n",
    "df['Feature set'] = df.apply(fs,axis = 1)\n",
    "\n",
    "tax_order =['kingdom','phylum','class','order','family','genus','species']\n",
    "df['tax'] = df['tax'].astype('category')\n",
    "df['tax'].cat.set_categories(tax_order, inplace=True)\n",
    "fs_order =['DNA_1','DNA_2','DNA_3','DNA_4','DNA_5','DNA_6','DNA_7','DNA_8','DNA_9','AA_1','AA_2','AA_3','AA_4','PC_1','PC_2','PC_3','PC_4','PC_5','PC_6','Domains_0']\n",
    "df['Feature set'] = df['Feature set'].astype('category')\n",
    "df['Feature set'].cat.set_categories(fs_order, inplace=True)\n",
    "balt_order = ['all','RNA' ,'(+)ssRNA', '(-)ssRNA',  'dsRNA', 'dsDNA','ssDNA']\n",
    "df['Baltimore'] = df['Baltimore'].astype('category')\n",
    "df['Baltimore'].cat.set_categories(balt_order, inplace=True)\n",
    "df.drop (columns= ['label','Features','k'], inplace = True)           "
   ]
  },
  {
   "cell_type": "code",
   "execution_count": null,
   "metadata": {},
   "outputs": [],
   "source": [
    "df1 = df.set_index(['Dataset','tax', 'negative label', 'negative tax', 'Baltimore', 'N in class'])"
   ]
  },
  {
   "cell_type": "code",
   "execution_count": null,
   "metadata": {},
   "outputs": [],
   "source": [
    "#df1.reset_index(drop = False,inplace=True)\n",
    "df1.index.unique()"
   ]
  },
  {
   "cell_type": "code",
   "execution_count": null,
   "metadata": {},
   "outputs": [],
   "source": [
    "dfout =df.pivot_table(index = ['Dataset','tax', 'negative label', 'negative tax', 'Baltimore', 'N in class'],values = 'AUC', columns = 'Feature set', aggfunc = 'mean').reset_index()"
   ]
  },
  {
   "cell_type": "code",
   "execution_count": null,
   "metadata": {},
   "outputs": [],
   "source": [
    "dfout.tail()\n"
   ]
  },
  {
   "cell_type": "code",
   "execution_count": null,
   "metadata": {},
   "outputs": [],
   "source": []
  }
 ],
 "metadata": {
  "kernelspec": {
   "display_name": "Python 3",
   "language": "python",
   "name": "python3"
  },
  "language_info": {
   "codemirror_mode": {
    "name": "ipython",
    "version": 3
   },
   "file_extension": ".py",
   "mimetype": "text/x-python",
   "name": "python",
   "nbconvert_exporter": "python",
   "pygments_lexer": "ipython3",
   "version": "3.6.3"
  }
 },
 "nbformat": 4,
 "nbformat_minor": 2
}
