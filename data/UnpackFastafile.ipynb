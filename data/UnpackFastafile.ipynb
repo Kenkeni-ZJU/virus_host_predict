{
 "cells": [
  {
   "cell_type": "code",
   "execution_count": 1,
   "metadata": {},
   "outputs": [],
   "source": [
    "import gzip\n",
    "from Bio import SeqIO\n",
    "import os"
   ]
  },
  {
   "cell_type": "markdown",
   "metadata": {},
   "source": [
    "## Notebook to unpack the compressed genome and cds files"
   ]
  },
  {
   "cell_type": "markdown",
   "metadata": {},
   "source": [
    "### 1. Unpack the nucleic acid fasta files into data/fna directoty.\n"
   ]
  },
  {
   "cell_type": "code",
   "execution_count": 21,
   "metadata": {
    "scrolled": true
   },
   "outputs": [
    {
     "name": "stdout",
     "output_type": "stream",
     "text": [
      "/home4/youn01f/Desktop/workspace/newData/fasta/virushostdb.genomic.fna.gz\n",
      "file 0: /home4/youn01f/Desktop/workspace/newData/fasta/AB007990.fasta \n",
      "file 500: /home4/youn01f/Desktop/workspace/newData/fasta/AM774357.fasta \n",
      "file 1000: /home4/youn01f/Desktop/workspace/newData/fasta/EU001278.fasta \n",
      "file 1500: /home4/youn01f/Desktop/workspace/newData/fasta/HM140370.fasta \n",
      "file 2000: /home4/youn01f/Desktop/workspace/newData/fasta/JX483874.fasta \n",
      "file 2500: /home4/youn01f/Desktop/workspace/newData/fasta/KM225265.fasta \n",
      "file 3000: /home4/youn01f/Desktop/workspace/newData/fasta/NC_001925.fasta \n",
      "file 3500: /home4/youn01f/Desktop/workspace/newData/fasta/NC_003664.fasta \n",
      "file 4000: /home4/youn01f/Desktop/workspace/newData/fasta/NC_004724.fasta \n",
      "file 4500: /home4/youn01f/Desktop/workspace/newData/fasta/NC_006998.fasta \n",
      "file 5000: /home4/youn01f/Desktop/workspace/newData/fasta/NC_008732.fasta \n",
      "file 5500: /home4/youn01f/Desktop/workspace/newData/fasta/NC_010707.fasta \n",
      "file 6000: /home4/youn01f/Desktop/workspace/newData/fasta/NC_013639.fasta \n",
      "file 6500: /home4/youn01f/Desktop/workspace/newData/fasta/NC_016404.fasta \n",
      "file 7000: /home4/youn01f/Desktop/workspace/newData/fasta/NC_019919.fasta \n",
      "file 7500: /home4/youn01f/Desktop/workspace/newData/fasta/NC_022563.fasta \n",
      "file 8000: /home4/youn01f/Desktop/workspace/newData/fasta/NC_024150.fasta \n",
      "file 8500: /home4/youn01f/Desktop/workspace/newData/fasta/NC_026015.fasta \n",
      "file 9000: /home4/youn01f/Desktop/workspace/newData/fasta/NC_027802.fasta \n",
      "file 9500: /home4/youn01f/Desktop/workspace/newData/fasta/NC_028973.fasta \n",
      "file 10000: /home4/youn01f/Desktop/workspace/newData/fasta/NC_030698.fasta \n",
      "file 10500: /home4/youn01f/Desktop/workspace/newData/fasta/NC_032118.fasta \n",
      "file 11000: /home4/youn01f/Desktop/workspace/newData/fasta/NC_032816.fasta \n",
      "file 11500: /home4/youn01f/Desktop/workspace/newData/fasta/NC_033316.fasta \n",
      "file 12000: /home4/youn01f/Desktop/workspace/newData/fasta/NC_034631.fasta \n",
      "file 12500: /home4/youn01f/Desktop/workspace/newData/fasta/NC_038475.fasta \n",
      "file 13000: /home4/youn01f/Desktop/workspace/newData/fasta/NC_038975.fasta \n",
      "13290 files extracted\n"
     ]
    }
   ],
   "source": [
    "count = 0\n",
    "fastapath = \"fna/\"\n",
    "inputfile = \"fna/virushostdb.genomic.fna.gz\"\n",
    "print (inputfile)\n",
    "with gzip.open(inputfile, \"rt\") as handle:\n",
    "    for record in SeqIO.parse(handle, \"fasta\"):\n",
    "        fileout = os.path.join(fastapath, record.id +\".fasta\")\n",
    "        with open(fileout, \"w\") as output_handle:\n",
    "            SeqIO.write(record, output_handle, \"fasta\")\n",
    "            if count%500 == 0:\n",
    "                print (f'file {count}: {fileout} ')           \n",
    "        count += 1\n",
    "print (f'{count} files extracted')"
   ]
  },
  {
   "cell_type": "markdown",
   "metadata": {},
   "source": [
    "### 2. Unpack the faa files into data/faa\n",
    "\n"
   ]
  },
  {
   "cell_type": "code",
   "execution_count": 19,
   "metadata": {},
   "outputs": [
    {
     "name": "stdout",
     "output_type": "stream",
     "text": [
      "/home4/youn01f/Desktop/workspace/newData/faa/virushostdb.cds.faa.gz\n",
      "output genome AB007990 6 AB012574\n",
      "output genome AB012574 7 AB024414\n",
      "output genome AB024414 65 AB027020\n",
      "output genome AB027020 8 AB027021\n",
      "output genome AB027021 8 AB032553\n",
      "output genome AB032553 3 AB042808\n",
      "output genome AB042808 3 AB050936\n",
      "output genome AB050936 8 AB073912\n",
      "output genome AB073912 3 AB090161\n",
      "output genome AB090161 2 AB110218\n",
      "output genome AB110218 6 AB162141\n",
      "output genome AB162141 6 AB176642\n",
      "output genome AB176642 3 AB187514\n",
      "output genome AB187514 3 AB187566\n",
      "output genome AB187566 2 AB192965\n",
      "output genome AB192965 6 AB192966\n",
      "output genome AB192966 6 AB194796\n",
      "output genome AB194796 1 AB205396\n",
      "output genome AB205396 1 AB211993\n",
      "output genome AB211993 7 AB220921\n",
      "output genome AB220921 3 AB236321\n",
      "output genome AB236321 6 AB236323\n",
      "output genome AB236323 6 AB236325\n",
      "output genome AB236325 6 AB236326\n",
      "output genome AB236326 1 AB236327\n",
      "output genome AB236327 1 AB252582\n",
      "output genome AB252582 1 AB300463\n",
      "output genome AB300463 6 AB306314\n",
      "output genome AB306314 6 AB306522\n",
      "output genome AB306522 1 AB331650\n",
      "output genome AB331650 6 AB331651\n",
      "output genome AB331651 7 AB361563\n",
      "output genome AB361563 7 AB365435\n",
      "output genome AB365435 3 AB374228\n",
      " number of CDS 250 number of genomes 35\n"
     ]
    }
   ],
   "source": [
    "count = 0\n",
    "outpath = \"faa/\"\n",
    "inputfile = \"faa/virushostdb.cds.faa.gz\"\n",
    "print (inputfile)\n",
    "path = 'fasta/'\n",
    "seq_list = []\n",
    "old_refid = 'xxxx'\n",
    "n_records = 0\n",
    "all_records = []\n",
    "all_n_records = []\n",
    "\n",
    "with gzip.open(inputfile, \"rt\") as handle:\n",
    "    \n",
    "    for record in SeqIO.parse(handle, \"fasta\"):\n",
    "        \n",
    "        count += 1\n",
    "        #Parse out the sequence id             \n",
    "        # example        BAA82924.1|/gene=\"ORF 36\",/product=\"UL28 product homolog\"||AB024414|[49188:51624](-)\n",
    "        refid = record.description.split('|')[-2]\n",
    "\n",
    "        if count == 1:  # for the first record  in fileonly\n",
    "            seq_list.append(refid)\n",
    "            old_refid = refid\n",
    "\n",
    "        if refid == old_refid: # another record for same refseq\n",
    "            all_records.append(record)\n",
    "            n_records += 1\n",
    "\n",
    "        else:\n",
    "        # CDS from a new species , write out all_records to a file\n",
    "\n",
    "            all_n_records.append(n_records)\n",
    "            SeqIO.write(all_records, f\"{outpath}{old_refid}.fasta\", \"fasta\")  \n",
    "            seq_list.append(refid)\n",
    "            old_refid = refid\n",
    "            n_records = 1\n",
    "            all_records = [record]\n",
    "            if count%500 == 0:\n",
    "                print (f'Working on {old_refid} and the {count} CDS record')   \n",
    "    \n",
    "print (' number of CDS', count, 'number of genomes',len(seq_list))\n",
    "\n",
    "                "
   ]
  },
  {
   "cell_type": "code",
   "execution_count": null,
   "metadata": {},
   "outputs": [],
   "source": []
  }
 ],
 "metadata": {
  "kernelspec": {
   "display_name": "Python 3",
   "language": "python",
   "name": "python3"
  },
  "language_info": {
   "codemirror_mode": {
    "name": "ipython",
    "version": 3
   },
   "file_extension": ".py",
   "mimetype": "text/x-python",
   "name": "python",
   "nbconvert_exporter": "python",
   "pygments_lexer": "ipython3",
   "version": "3.6.3"
  }
 },
 "nbformat": 4,
 "nbformat_minor": 2
}
